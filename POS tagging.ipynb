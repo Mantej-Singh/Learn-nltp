{
 "cells": [
  {
   "cell_type": "markdown",
   "metadata": {},
   "source": [
    "# Reading a txt file and speech tagging"
   ]
  },
  {
   "cell_type": "code",
   "execution_count": null,
   "metadata": {
    "collapsed": true
   },
   "outputs": [],
   "source": []
  },
  {
   "cell_type": "code",
   "execution_count": 43,
   "metadata": {
    "collapsed": true
   },
   "outputs": [],
   "source": [
    "#We can use tkinter. but here i want to use something else\n",
    "import tkinter.filedialog as fdialog\n",
    "import tkinter as tk"
   ]
  },
  {
   "cell_type": "code",
   "execution_count": 10,
   "metadata": {
    "collapsed": true
   },
   "outputs": [],
   "source": [
    "#I prefer easygui\n",
    "import easygui"
   ]
  },
  {
   "cell_type": "code",
   "execution_count": 52,
   "metadata": {},
   "outputs": [],
   "source": [
    "filepath = easygui.fileopenbox(msg='Text File',title='Importing files to read',default='*.txt',filetypes = [[\"*.pdf\",\"PDF Files\"], [\"*.htm\", \"*.html\", \"HTML files\"]])"
   ]
  },
  {
   "cell_type": "code",
   "execution_count": 38,
   "metadata": {},
   "outputs": [],
   "source": [
    "#root = tk.Tk()"
   ]
  },
  {
   "cell_type": "code",
   "execution_count": 39,
   "metadata": {},
   "outputs": [],
   "source": [
    "#root.withdraw()"
   ]
  },
  {
   "cell_type": "code",
   "execution_count": 40,
   "metadata": {
    "collapsed": true
   },
   "outputs": [],
   "source": [
    "#filename = fdialog.askopenfilename(filetypes = ((\"Text file\", \"*.txt\"),(\"HTML files\", \"*.html;*.htm\"),(\"All files\", \"*.*\") ))"
   ]
  },
  {
   "cell_type": "code",
   "execution_count": 41,
   "metadata": {},
   "outputs": [],
   "source": [
    "#filename"
   ]
  },
  {
   "cell_type": "code",
   "execution_count": 53,
   "metadata": {},
   "outputs": [],
   "source": [
    "filedata = open(filepath,'r')\n",
    "data=filedata.read()"
   ]
  },
  {
   "cell_type": "code",
   "execution_count": 54,
   "metadata": {},
   "outputs": [
    {
     "name": "stdout",
     "output_type": "stream",
     "text": [
      "It’s a good time to be a fan of Superman. And after the last few months (closer to a year), those fond of the comic book Man of Steel needed a bit of a boost. While a resounding success, the launch of the DC “Rebirth” saw the Big Blue Boy scout himself not reinvigorated, like his colleagues, but outright replaced. The New 52 Superman died under somewhat mysterious circumstances, and the Superman of old – and of older comic book fans – returned to the DC Universe, wife Lois Lane and son Jonathan Kent behind him. But things have changed.\n",
      "\n",
      "The mystery and uncertainty surrounding this new Superman and the lingering question of the New 52 Superman’s fate were there from the start, and in Action Comics #976, the twist has finally been delivered. The previous issue’s tease was everything it seemed: the New 52 Superman is back, having never died at all. But to make sure every fan of DC’s biggest hero leaves happy, the “Superman Reborn” story sees the younger, New 52 version and the older father and husband folded into one.\n"
     ]
    }
   ],
   "source": [
    "print(data)"
   ]
  },
  {
   "cell_type": "code",
   "execution_count": 55,
   "metadata": {},
   "outputs": [],
   "source": [
    "from nltk import word_tokenize, pos_tag"
   ]
  },
  {
   "cell_type": "code",
   "execution_count": 56,
   "metadata": {
    "collapsed": true
   },
   "outputs": [],
   "source": [
    "#txt=\"This is a simple text file used to demonstrate Natural Language Processing with a part of speech (pos) tagging library\""
   ]
  },
  {
   "cell_type": "code",
   "execution_count": 57,
   "metadata": {},
   "outputs": [
    {
     "name": "stdout",
     "output_type": "stream",
     "text": [
      "Wall time: 4 ms\n"
     ]
    }
   ],
   "source": [
    "%%time\n",
    "tokens = word_tokenize(data)"
   ]
  },
  {
   "cell_type": "code",
   "execution_count": 64,
   "metadata": {},
   "outputs": [],
   "source": [
    "All_pos=pos_tag(tokens)"
   ]
  },
  {
   "cell_type": "code",
   "execution_count": 65,
   "metadata": {},
   "outputs": [
    {
     "data": {
      "text/plain": [
       "[('It’s', 'IN'),\n",
       " ('a', 'DT'),\n",
       " ('good', 'JJ'),\n",
       " ('time', 'NN'),\n",
       " ('to', 'TO'),\n",
       " ('be', 'VB'),\n",
       " ('a', 'DT'),\n",
       " ('fan', 'NN'),\n",
       " ('of', 'IN'),\n",
       " ('Superman', 'NNP'),\n",
       " ('.', '.'),\n",
       " ('And', 'CC'),\n",
       " ('after', 'IN'),\n",
       " ('the', 'DT'),\n",
       " ('last', 'JJ'),\n",
       " ('few', 'JJ'),\n",
       " ('months', 'NNS'),\n",
       " ('(', '('),\n",
       " ('closer', 'JJR'),\n",
       " ('to', 'TO'),\n",
       " ('a', 'DT'),\n",
       " ('year', 'NN'),\n",
       " (')', ')'),\n",
       " (',', ','),\n",
       " ('those', 'DT'),\n",
       " ('fond', 'NN'),\n",
       " ('of', 'IN'),\n",
       " ('the', 'DT'),\n",
       " ('comic', 'JJ'),\n",
       " ('book', 'NN'),\n",
       " ('Man', 'NNP'),\n",
       " ('of', 'IN'),\n",
       " ('Steel', 'NNP'),\n",
       " ('needed', 'VBD'),\n",
       " ('a', 'DT'),\n",
       " ('bit', 'NN'),\n",
       " ('of', 'IN'),\n",
       " ('a', 'DT'),\n",
       " ('boost', 'NN'),\n",
       " ('.', '.'),\n",
       " ('While', 'IN'),\n",
       " ('a', 'DT'),\n",
       " ('resounding', 'JJ'),\n",
       " ('success', 'NN'),\n",
       " (',', ','),\n",
       " ('the', 'DT'),\n",
       " ('launch', 'NN'),\n",
       " ('of', 'IN'),\n",
       " ('the', 'DT'),\n",
       " ('DC', 'NNP'),\n",
       " ('“Rebirth”', 'NNP'),\n",
       " ('saw', 'VBD'),\n",
       " ('the', 'DT'),\n",
       " ('Big', 'NNP'),\n",
       " ('Blue', 'NNP'),\n",
       " ('Boy', 'NNP'),\n",
       " ('scout', 'NN'),\n",
       " ('himself', 'PRP'),\n",
       " ('not', 'RB'),\n",
       " ('reinvigorated', 'VBD'),\n",
       " (',', ','),\n",
       " ('like', 'IN'),\n",
       " ('his', 'PRP$'),\n",
       " ('colleagues', 'NNS'),\n",
       " (',', ','),\n",
       " ('but', 'CC'),\n",
       " ('outright', 'RB'),\n",
       " ('replaced', 'VBD'),\n",
       " ('.', '.'),\n",
       " ('The', 'DT'),\n",
       " ('New', 'NNP'),\n",
       " ('52', 'CD'),\n",
       " ('Superman', 'NNP'),\n",
       " ('died', 'VBD'),\n",
       " ('under', 'IN'),\n",
       " ('somewhat', 'RB'),\n",
       " ('mysterious', 'JJ'),\n",
       " ('circumstances', 'NNS'),\n",
       " (',', ','),\n",
       " ('and', 'CC'),\n",
       " ('the', 'DT'),\n",
       " ('Superman', 'NNP'),\n",
       " ('of', 'IN'),\n",
       " ('old', 'JJ'),\n",
       " ('–', 'NN'),\n",
       " ('and', 'CC'),\n",
       " ('of', 'IN'),\n",
       " ('older', 'JJR'),\n",
       " ('comic', 'JJ'),\n",
       " ('book', 'NN'),\n",
       " ('fans', 'NNS'),\n",
       " ('–', 'VBP'),\n",
       " ('returned', 'VBN'),\n",
       " ('to', 'TO'),\n",
       " ('the', 'DT'),\n",
       " ('DC', 'NNP'),\n",
       " ('Universe', 'NNP'),\n",
       " (',', ','),\n",
       " ('wife', 'NN'),\n",
       " ('Lois', 'NNP'),\n",
       " ('Lane', 'NNP'),\n",
       " ('and', 'CC'),\n",
       " ('son', 'NN'),\n",
       " ('Jonathan', 'NNP'),\n",
       " ('Kent', 'NNP'),\n",
       " ('behind', 'IN'),\n",
       " ('him', 'PRP'),\n",
       " ('.', '.'),\n",
       " ('But', 'CC'),\n",
       " ('things', 'NNS'),\n",
       " ('have', 'VBP'),\n",
       " ('changed', 'VBN'),\n",
       " ('.', '.'),\n",
       " ('The', 'DT'),\n",
       " ('mystery', 'NN'),\n",
       " ('and', 'CC'),\n",
       " ('uncertainty', 'NN'),\n",
       " ('surrounding', 'VBG'),\n",
       " ('this', 'DT'),\n",
       " ('new', 'JJ'),\n",
       " ('Superman', 'NNP'),\n",
       " ('and', 'CC'),\n",
       " ('the', 'DT'),\n",
       " ('lingering', 'VBG'),\n",
       " ('question', 'NN'),\n",
       " ('of', 'IN'),\n",
       " ('the', 'DT'),\n",
       " ('New', 'NNP'),\n",
       " ('52', 'CD'),\n",
       " ('Superman’s', 'NNP'),\n",
       " ('fate', 'NN'),\n",
       " ('were', 'VBD'),\n",
       " ('there', 'RB'),\n",
       " ('from', 'IN'),\n",
       " ('the', 'DT'),\n",
       " ('start', 'NN'),\n",
       " (',', ','),\n",
       " ('and', 'CC'),\n",
       " ('in', 'IN'),\n",
       " ('Action', 'NNP'),\n",
       " ('Comics', 'NNP'),\n",
       " ('#', '#'),\n",
       " ('976', 'CD'),\n",
       " (',', ','),\n",
       " ('the', 'DT'),\n",
       " ('twist', 'NN'),\n",
       " ('has', 'VBZ'),\n",
       " ('finally', 'RB'),\n",
       " ('been', 'VBN'),\n",
       " ('delivered', 'VBN'),\n",
       " ('.', '.'),\n",
       " ('The', 'DT'),\n",
       " ('previous', 'JJ'),\n",
       " ('issue’s', 'NN'),\n",
       " ('tease', 'NN'),\n",
       " ('was', 'VBD'),\n",
       " ('everything', 'NN'),\n",
       " ('it', 'PRP'),\n",
       " ('seemed', 'VBD'),\n",
       " (':', ':'),\n",
       " ('the', 'DT'),\n",
       " ('New', 'NNP'),\n",
       " ('52', 'CD'),\n",
       " ('Superman', 'NNP'),\n",
       " ('is', 'VBZ'),\n",
       " ('back', 'RB'),\n",
       " (',', ','),\n",
       " ('having', 'VBG'),\n",
       " ('never', 'RB'),\n",
       " ('died', 'VBN'),\n",
       " ('at', 'IN'),\n",
       " ('all', 'DT'),\n",
       " ('.', '.'),\n",
       " ('But', 'CC'),\n",
       " ('to', 'TO'),\n",
       " ('make', 'VB'),\n",
       " ('sure', 'JJ'),\n",
       " ('every', 'DT'),\n",
       " ('fan', 'NN'),\n",
       " ('of', 'IN'),\n",
       " ('DC’s', 'NNP'),\n",
       " ('biggest', 'JJS'),\n",
       " ('hero', 'NN'),\n",
       " ('leaves', 'VBZ'),\n",
       " ('happy', 'JJ'),\n",
       " (',', ','),\n",
       " ('the', 'DT'),\n",
       " ('“Superman', 'NNP'),\n",
       " ('Reborn”', 'NNP'),\n",
       " ('story', 'NN'),\n",
       " ('sees', 'VBZ'),\n",
       " ('the', 'DT'),\n",
       " ('younger', 'NN'),\n",
       " (',', ','),\n",
       " ('New', 'NNP'),\n",
       " ('52', 'CD'),\n",
       " ('version', 'NN'),\n",
       " ('and', 'CC'),\n",
       " ('the', 'DT'),\n",
       " ('older', 'JJR'),\n",
       " ('father', 'NN'),\n",
       " ('and', 'CC'),\n",
       " ('husband', 'NN'),\n",
       " ('folded', 'VBD'),\n",
       " ('into', 'IN'),\n",
       " ('one', 'CD'),\n",
       " ('.', '.')]"
      ]
     },
     "execution_count": 65,
     "metadata": {},
     "output_type": "execute_result"
    }
   ],
   "source": [
    "All_pos"
   ]
  },
  {
   "cell_type": "code",
   "execution_count": 49,
   "metadata": {},
   "outputs": [],
   "source": [
    "#easygui.msgbox('This is a basic message box.', 'Title Goes Here')"
   ]
  },
  {
   "cell_type": "code",
   "execution_count": 50,
   "metadata": {},
   "outputs": [],
   "source": [
    "#a=easygui.ynbox('Shall I continue?', 'Title', ('Yes', 'No'))"
   ]
  },
  {
   "cell_type": "code",
   "execution_count": 51,
   "metadata": {},
   "outputs": [],
   "source": [
    "#easygui.buttonbox('Click on your favorite flavor.', 'Favorite Flavor', ('Chocolate', 'Vanilla', 'Strawberry'))"
   ]
  },
  {
   "cell_type": "code",
   "execution_count": 62,
   "metadata": {},
   "outputs": [
    {
     "data": {
      "text/plain": [
       "'All tags:\\nhttp://stackoverflow.com/questions/15388831/what-are-all-possible-pos-tags-of-nltk'"
      ]
     },
     "execution_count": 62,
     "metadata": {},
     "output_type": "execute_result"
    }
   ],
   "source": [
    "\"\"\"All tags:\n",
    "http://stackoverflow.com/questions/15388831/what-are-all-possible-pos-tags-of-nltk\"\"\""
   ]
  },
  {
   "cell_type": "markdown",
   "metadata": {},
   "source": [
    "### Comverting a list to dict and finding a value"
   ]
  },
  {
   "cell_type": "code",
   "execution_count": 89,
   "metadata": {
    "collapsed": true
   },
   "outputs": [],
   "source": [
    "l = [(1,\"juca\"),(22,\"james\"),(53,\"xuxa\"),(44,\"delicia\"),(45,\"delicia\")]"
   ]
  },
  {
   "cell_type": "code",
   "execution_count": 90,
   "metadata": {},
   "outputs": [],
   "source": [
    "d=dict(l)"
   ]
  },
  {
   "cell_type": "code",
   "execution_count": 96,
   "metadata": {},
   "outputs": [
    {
     "data": {
      "text/plain": [
       "{1: 'juca', 22: 'james', 44: 'delicia', 45: 'delicia', 53: 'xuxa'}"
      ]
     },
     "execution_count": 96,
     "metadata": {},
     "output_type": "execute_result"
    }
   ],
   "source": [
    "d"
   ]
  },
  {
   "cell_type": "markdown",
   "metadata": {},
   "source": [
    "#### using list comprehension"
   ]
  },
  {
   "cell_type": "code",
   "execution_count": 112,
   "metadata": {},
   "outputs": [
    {
     "data": {
      "text/plain": [
       "[44, 45]"
      ]
     },
     "execution_count": 112,
     "metadata": {},
     "output_type": "execute_result"
    }
   ],
   "source": [
    "[k for k,v in l if v =='delicia'] #LIST"
   ]
  },
  {
   "cell_type": "code",
   "execution_count": 113,
   "metadata": {},
   "outputs": [
    {
     "data": {
      "text/plain": [
       "[44, 45]"
      ]
     },
     "execution_count": 113,
     "metadata": {},
     "output_type": "execute_result"
    }
   ],
   "source": [
    "[k for k,v in d.items() if v =='delicia'] #DICT"
   ]
  },
  {
   "cell_type": "markdown",
   "metadata": {},
   "source": [
    "### using this above logic to find all list Proper Noun(NNP) from our All_pos list"
   ]
  },
  {
   "cell_type": "code",
   "execution_count": 101,
   "metadata": {
    "collapsed": true
   },
   "outputs": [],
   "source": [
    "All_pos_dict=dict(All_pos)"
   ]
  },
  {
   "cell_type": "markdown",
   "metadata": {},
   "source": [
    "#### For Python 3.x iteritems has been removed, Using items instead."
   ]
  },
  {
   "cell_type": "code",
   "execution_count": 110,
   "metadata": {},
   "outputs": [
    {
     "data": {
      "text/plain": [
       "['DC’s',\n",
       " 'Superman’s',\n",
       " 'Kent',\n",
       " 'Jonathan',\n",
       " 'New',\n",
       " 'DC',\n",
       " 'Blue',\n",
       " 'Boy',\n",
       " 'Reborn”',\n",
       " 'Man',\n",
       " 'Superman',\n",
       " 'Big',\n",
       " 'Lois',\n",
       " 'Lane',\n",
       " '“Rebirth”',\n",
       " 'Action',\n",
       " 'Comics',\n",
       " 'Steel',\n",
       " 'Universe',\n",
       " '“Superman']"
      ]
     },
     "execution_count": 110,
     "metadata": {},
     "output_type": "execute_result"
    }
   ],
   "source": [
    "[k for k,v in All_pos_dict.items() if v =='NNP']"
   ]
  },
  {
   "cell_type": "code",
   "execution_count": null,
   "metadata": {
    "collapsed": true
   },
   "outputs": [],
   "source": []
  }
 ],
 "metadata": {
  "kernelspec": {
   "display_name": "Python 3",
   "language": "python",
   "name": "python3"
  },
  "language_info": {
   "codemirror_mode": {
    "name": "ipython",
    "version": 3
   },
   "file_extension": ".py",
   "mimetype": "text/x-python",
   "name": "python",
   "nbconvert_exporter": "python",
   "pygments_lexer": "ipython3",
   "version": "3.5.2"
  }
 },
 "nbformat": 4,
 "nbformat_minor": 2
}
